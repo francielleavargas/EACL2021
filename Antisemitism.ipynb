{
  "nbformat": 4,
  "nbformat_minor": 0,
  "metadata": {
    "colab": {
      "name": "Antisemitism.ipynb",
      "provenance": [],
      "collapsed_sections": []
    },
    "kernelspec": {
      "name": "python3",
      "display_name": "Python 3"
    }
  },
  "cells": [
    {
      "cell_type": "code",
      "metadata": {
        "id": "F9M4dOFGAWzR",
        "outputId": "2b2393b1-f8db-4c59-b4d6-a143ba9bd0db",
        "colab": {
          "base_uri": "https://localhost:8080/",
          "height": 194
        }
      },
      "source": [
        "!pip install emoji"
      ],
      "execution_count": 2,
      "outputs": [
        {
          "output_type": "stream",
          "text": [
            "Collecting emoji\n",
            "\u001b[?25l  Downloading https://files.pythonhosted.org/packages/ff/1c/1f1457fe52d0b30cbeebfd578483cedb3e3619108d2d5a21380dfecf8ffd/emoji-0.6.0.tar.gz (51kB)\n",
            "\r\u001b[K     |██████▍                         | 10kB 17.7MB/s eta 0:00:01\r\u001b[K     |████████████▉                   | 20kB 1.7MB/s eta 0:00:01\r\u001b[K     |███████████████████▎            | 30kB 2.2MB/s eta 0:00:01\r\u001b[K     |█████████████████████████▊      | 40kB 2.5MB/s eta 0:00:01\r\u001b[K     |████████████████████████████████| 51kB 1.5MB/s \n",
            "\u001b[?25hBuilding wheels for collected packages: emoji\n",
            "  Building wheel for emoji (setup.py) ... \u001b[?25l\u001b[?25hdone\n",
            "  Created wheel for emoji: filename=emoji-0.6.0-cp36-none-any.whl size=49716 sha256=26188547123907466a8ecb257a9cce39d83412cb45815275cbb46105218e4977\n",
            "  Stored in directory: /root/.cache/pip/wheels/46/2c/8b/9dcf5216ca68e14e0320e283692dce8ae321cdc01e73e17796\n",
            "Successfully built emoji\n",
            "Installing collected packages: emoji\n",
            "Successfully installed emoji-0.6.0\n"
          ],
          "name": "stdout"
        }
      ]
    },
    {
      "cell_type": "code",
      "metadata": {
        "id": "PlcTdRAg6w12"
      },
      "source": [
        "from spacy.lang.en.stop_words import STOP_WORDS\n",
        "from nltk.stem import WordNetLemmatizer\n",
        "from spacy.lang.en import English \n",
        "from collections import Counter\n",
        "import matplotlib.pyplot as plt\n",
        "from spacy.lang.en.stop_words import STOP_WORDS\n",
        "from sklearn.feature_extraction.text import TfidfVectorizer\n",
        "from spacy.lang.en import English\n",
        "from textblob import TextBlob as tb\n",
        "from sklearn import model_selection\n",
        "from sklearn.metrics import classification_report\n",
        "from sklearn.metrics import confusion_matrix\n",
        "from sklearn.metrics import accuracy_score\n",
        "from sklearn.linear_model import LogisticRegression\n",
        "from sklearn.tree import DecisionTreeClassifier\n",
        "from sklearn.neighbors import KNeighborsClassifier\n",
        "from sklearn.discriminant_analysis import LinearDiscriminantAnalysis\n",
        "from sklearn.naive_bayes import GaussianNB\n",
        "from sklearn.linear_model import Perceptron\n",
        "from sklearn.svm import SVC\n",
        "import numpy as np\n",
        "import pandas as pd\n",
        "import string\n",
        "import csv\n",
        "#import langid\n",
        "import emoji\n",
        "import spacy\n",
        "import json\n",
        "import nltk\n",
        "import re\n",
        "\n",
        "nlp = spacy.load(\"en_core_web_sm\")\n"
      ],
      "execution_count": 39,
      "outputs": []
    },
    {
      "cell_type": "code",
      "metadata": {
        "id": "VcBoLBYamehw",
        "outputId": "f7497499-f68e-47e6-cb3e-0e1a6ff64315",
        "colab": {
          "base_uri": "https://localhost:8080/",
          "height": 552
        }
      },
      "source": [
        "#BERT Pre-trained\n",
        "!pip install -U sentence-transformers\n",
        "from sentence_transformers import SentenceTransformer, LoggingHandler\n",
        "import numpy as np\n",
        "import logging\n",
        "\n",
        "#### Just some code to print debug information to stdout\n",
        "np.set_printoptions(threshold=100)\n",
        "\n",
        "logging.basicConfig(format='%(asctime)s - %(message)s',\n",
        "                    datefmt='%Y-%m-%d %H:%M:%S',\n",
        "                    level=logging.INFO,\n",
        "                    handlers=[LoggingHandler()])\n",
        "\n",
        "# Load Sentence model (based on BERT) from URL\n",
        "model = SentenceTransformer('distiluse-base-multilingual-cased')"
      ],
      "execution_count": 40,
      "outputs": [
        {
          "output_type": "stream",
          "text": [
            "Requirement already up-to-date: sentence-transformers in /usr/local/lib/python3.6/dist-packages (0.3.7.2)\n",
            "Requirement already satisfied, skipping upgrade: tqdm in /usr/local/lib/python3.6/dist-packages (from sentence-transformers) (4.41.1)\n",
            "Requirement already satisfied, skipping upgrade: nltk in /usr/local/lib/python3.6/dist-packages (from sentence-transformers) (3.2.5)\n",
            "Requirement already satisfied, skipping upgrade: scikit-learn in /usr/local/lib/python3.6/dist-packages (from sentence-transformers) (0.22.2.post1)\n",
            "Requirement already satisfied, skipping upgrade: numpy in /usr/local/lib/python3.6/dist-packages (from sentence-transformers) (1.18.5)\n",
            "Requirement already satisfied, skipping upgrade: transformers<3.4.0,>=3.1.0 in /usr/local/lib/python3.6/dist-packages (from sentence-transformers) (3.3.1)\n",
            "Requirement already satisfied, skipping upgrade: scipy in /usr/local/lib/python3.6/dist-packages (from sentence-transformers) (1.4.1)\n",
            "Requirement already satisfied, skipping upgrade: torch>=1.2.0 in /usr/local/lib/python3.6/dist-packages (from sentence-transformers) (1.6.0+cu101)\n",
            "Requirement already satisfied, skipping upgrade: six in /usr/local/lib/python3.6/dist-packages (from nltk->sentence-transformers) (1.15.0)\n",
            "Requirement already satisfied, skipping upgrade: joblib>=0.11 in /usr/local/lib/python3.6/dist-packages (from scikit-learn->sentence-transformers) (0.16.0)\n",
            "Requirement already satisfied, skipping upgrade: filelock in /usr/local/lib/python3.6/dist-packages (from transformers<3.4.0,>=3.1.0->sentence-transformers) (3.0.12)\n",
            "Requirement already satisfied, skipping upgrade: tokenizers==0.8.1.rc2 in /usr/local/lib/python3.6/dist-packages (from transformers<3.4.0,>=3.1.0->sentence-transformers) (0.8.1rc2)\n",
            "Requirement already satisfied, skipping upgrade: dataclasses; python_version < \"3.7\" in /usr/local/lib/python3.6/dist-packages (from transformers<3.4.0,>=3.1.0->sentence-transformers) (0.7)\n",
            "Requirement already satisfied, skipping upgrade: sacremoses in /usr/local/lib/python3.6/dist-packages (from transformers<3.4.0,>=3.1.0->sentence-transformers) (0.0.43)\n",
            "Requirement already satisfied, skipping upgrade: packaging in /usr/local/lib/python3.6/dist-packages (from transformers<3.4.0,>=3.1.0->sentence-transformers) (20.4)\n",
            "Requirement already satisfied, skipping upgrade: regex!=2019.12.17 in /usr/local/lib/python3.6/dist-packages (from transformers<3.4.0,>=3.1.0->sentence-transformers) (2019.12.20)\n",
            "Requirement already satisfied, skipping upgrade: requests in /usr/local/lib/python3.6/dist-packages (from transformers<3.4.0,>=3.1.0->sentence-transformers) (2.23.0)\n",
            "Requirement already satisfied, skipping upgrade: sentencepiece!=0.1.92 in /usr/local/lib/python3.6/dist-packages (from transformers<3.4.0,>=3.1.0->sentence-transformers) (0.1.91)\n",
            "Requirement already satisfied, skipping upgrade: future in /usr/local/lib/python3.6/dist-packages (from torch>=1.2.0->sentence-transformers) (0.16.0)\n",
            "Requirement already satisfied, skipping upgrade: click in /usr/local/lib/python3.6/dist-packages (from sacremoses->transformers<3.4.0,>=3.1.0->sentence-transformers) (7.1.2)\n",
            "Requirement already satisfied, skipping upgrade: pyparsing>=2.0.2 in /usr/local/lib/python3.6/dist-packages (from packaging->transformers<3.4.0,>=3.1.0->sentence-transformers) (2.4.7)\n",
            "Requirement already satisfied, skipping upgrade: urllib3!=1.25.0,!=1.25.1,<1.26,>=1.21.1 in /usr/local/lib/python3.6/dist-packages (from requests->transformers<3.4.0,>=3.1.0->sentence-transformers) (1.24.3)\n",
            "Requirement already satisfied, skipping upgrade: chardet<4,>=3.0.2 in /usr/local/lib/python3.6/dist-packages (from requests->transformers<3.4.0,>=3.1.0->sentence-transformers) (3.0.4)\n",
            "Requirement already satisfied, skipping upgrade: certifi>=2017.4.17 in /usr/local/lib/python3.6/dist-packages (from requests->transformers<3.4.0,>=3.1.0->sentence-transformers) (2020.6.20)\n",
            "Requirement already satisfied, skipping upgrade: idna<3,>=2.5 in /usr/local/lib/python3.6/dist-packages (from requests->transformers<3.4.0,>=3.1.0->sentence-transformers) (2.10)\n",
            "2020-10-06 13:56:43 - Load pretrained SentenceTransformer: distiluse-base-multilingual-cased\n",
            "2020-10-06 13:56:43 - Did not find folder distiluse-base-multilingual-cased. Assume to download model from server.\n",
            "2020-10-06 13:56:43 - Load SentenceTransformer from folder: /root/.cache/torch/sentence_transformers/sbert.net_models_distiluse-base-multilingual-cased\n",
            "2020-10-06 13:56:46 - Use pytorch device: cpu\n"
          ],
          "name": "stdout"
        }
      ]
    },
    {
      "cell_type": "code",
      "metadata": {
        "id": "5TAAJyBcVlDn",
        "outputId": "53ebe5fd-3520-4372-e15c-1b023302a4a5",
        "colab": {
          "base_uri": "https://localhost:8080/",
          "height": 406
        }
      },
      "source": [
        "dataset = pd.read_csv('tweets_df.csv')\n",
        "dataset = dataset.sample(frac=1)\n",
        "texts=dataset['tweet'].to_list()\n",
        "dataset\n"
      ],
      "execution_count": 41,
      "outputs": [
        {
          "output_type": "execute_result",
          "data": {
            "text/html": [
              "<div>\n",
              "<style scoped>\n",
              "    .dataframe tbody tr th:only-of-type {\n",
              "        vertical-align: middle;\n",
              "    }\n",
              "\n",
              "    .dataframe tbody tr th {\n",
              "        vertical-align: top;\n",
              "    }\n",
              "\n",
              "    .dataframe thead th {\n",
              "        text-align: right;\n",
              "    }\n",
              "</style>\n",
              "<table border=\"1\" class=\"dataframe\">\n",
              "  <thead>\n",
              "    <tr style=\"text-align: right;\">\n",
              "      <th></th>\n",
              "      <th>tweet</th>\n",
              "      <th>class</th>\n",
              "    </tr>\n",
              "  </thead>\n",
              "  <tbody>\n",
              "    <tr>\n",
              "      <th>691</th>\n",
              "      <td>@gracej22 Wouldn't vote for any of the spinele...</td>\n",
              "      <td>1</td>\n",
              "    </tr>\n",
              "    <tr>\n",
              "      <th>378</th>\n",
              "      <td>Look at what the infidels and Jews have made: ...</td>\n",
              "      <td>0</td>\n",
              "    </tr>\n",
              "    <tr>\n",
              "      <th>538</th>\n",
              "      <td>👀 Did you know? #MAGA The limit of kikes ,for ...</td>\n",
              "      <td>1</td>\n",
              "    </tr>\n",
              "    <tr>\n",
              "      <th>170</th>\n",
              "      <td>did not apply equally to all new Americans.  R...</td>\n",
              "      <td>0</td>\n",
              "    </tr>\n",
              "    <tr>\n",
              "      <th>401</th>\n",
              "      <td>@DonaldJTrumpJr Mayor De Blasio has been showi...</td>\n",
              "      <td>0</td>\n",
              "    </tr>\n",
              "    <tr>\n",
              "      <th>...</th>\n",
              "      <td>...</td>\n",
              "      <td>...</td>\n",
              "    </tr>\n",
              "    <tr>\n",
              "      <th>293</th>\n",
              "      <td>Great analogy, Linda. Yes, the Jews were total...</td>\n",
              "      <td>0</td>\n",
              "    </tr>\n",
              "    <tr>\n",
              "      <th>522</th>\n",
              "      <td>@Achgut_com Noch so ein Zionazi Käseblatt, die...</td>\n",
              "      <td>1</td>\n",
              "    </tr>\n",
              "    <tr>\n",
              "      <th>94</th>\n",
              "      <td>〽 #unpopularopinion #randum The issue of kikes...</td>\n",
              "      <td>1</td>\n",
              "    </tr>\n",
              "    <tr>\n",
              "      <th>298</th>\n",
              "      <td>🐩 According to a new study, #MAGA The only thi...</td>\n",
              "      <td>1</td>\n",
              "    </tr>\n",
              "    <tr>\n",
              "      <th>23</th>\n",
              "      <td>↪ FYI #TIL The American dream of  kikes feasib...</td>\n",
              "      <td>1</td>\n",
              "    </tr>\n",
              "  </tbody>\n",
              "</table>\n",
              "<p>822 rows × 2 columns</p>\n",
              "</div>"
            ],
            "text/plain": [
              "                                                 tweet  class\n",
              "691  @gracej22 Wouldn't vote for any of the spinele...      1\n",
              "378  Look at what the infidels and Jews have made: ...      0\n",
              "538  👀 Did you know? #MAGA The limit of kikes ,for ...      1\n",
              "170  did not apply equally to all new Americans.  R...      0\n",
              "401  @DonaldJTrumpJr Mayor De Blasio has been showi...      0\n",
              "..                                                 ...    ...\n",
              "293  Great analogy, Linda. Yes, the Jews were total...      0\n",
              "522  @Achgut_com Noch so ein Zionazi Käseblatt, die...      1\n",
              "94   〽 #unpopularopinion #randum The issue of kikes...      1\n",
              "298  🐩 According to a new study, #MAGA The only thi...      1\n",
              "23   ↪ FYI #TIL The American dream of  kikes feasib...      1\n",
              "\n",
              "[822 rows x 2 columns]"
            ]
          },
          "metadata": {
            "tags": []
          },
          "execution_count": 41
        }
      ]
    },
    {
      "cell_type": "code",
      "metadata": {
        "id": "owfmiRKFr3G3",
        "outputId": "e86720d2-9993-4dd2-e63b-1b5498dd17bf",
        "colab": {
          "base_uri": "https://localhost:8080/",
          "height": 511
        }
      },
      "source": [
        "plt.figure(figsize = (10, 7)) \n",
        "x = dataset['class'] \n",
        "plt.hist(x, bins = 'auto', color = \"blue\") \n",
        "plt.title('Distribuição de ocorrências para cada classe')\n",
        "plt.ylabel('Frequencia')\n",
        "plt.xlabel('Classes (-1, 0, 1)')\n",
        "plt.show()\n",
        "#-----------------------------------------------------------\n",
        "dataset['class'].value_counts()"
      ],
      "execution_count": 42,
      "outputs": [
        {
          "output_type": "display_data",
          "data": {
            "image/png": "[encoded data removed]",
            "text/plain": [
              "<Figure size 720x504 with 1 Axes>"
            ]
          },
          "metadata": {
            "tags": [],
            "needs_background": "light"
          }
        },
        {
          "output_type": "execute_result",
          "data": {
            "text/plain": [
              "1    411\n",
              "0    411\n",
              "Name: class, dtype: int64"
            ]
          },
          "metadata": {
            "tags": []
          },
          "execution_count": 42
        }
      ]
    },
    {
      "cell_type": "code",
      "metadata": {
        "id": "Bj3B-ZJKRuZa",
        "outputId": "be227be8-3c57-4320-a857-537df0c8d7dd",
        "colab": {
          "base_uri": "https://localhost:8080/",
          "height": 132
        }
      },
      "source": [
        "df_normalizado = [] # Armazena a lista de itens normalizados\n",
        "sent_score = [] # Lista vazia para armazenar scores de sentimentos\n",
        "\n",
        "#Reading the list of aspects \n",
        "with open('holocaust_lexicon.txt') as f:\n",
        "    holocaust = f.read().lower().splitlines()\n",
        "\n",
        "#Create the column for part of speech frequency analysis\n",
        "COLUNAS = [\n",
        "        'NOUN',\n",
        "        'ADJ',\n",
        "        'ADV',\n",
        "        'VERB',\n",
        "\n",
        "        #'ADP',\n",
        "        #'AUX',\n",
        "        #'CONJ',\n",
        "        #'DET',\n",
        "        #'INTJ',\n",
        "        #'NUM',\n",
        "        #'PART',\n",
        "        #'PRON',\n",
        "        #'PROPN',\n",
        "        #'PUNCT',\n",
        "        #'CCONJ',\n",
        "        #'SCONJ',\n",
        "        #'SYM', \n",
        "        #'SPACE',\n",
        "        #'X'\n",
        "    ]\n",
        "df_partofspeech = pd.DataFrame(columns=COLUNAS)\n",
        "\n",
        "#Create the column for holocaust frequency analysis\n",
        "COLUNAS_1 = [\n",
        "        'HOLOC',\n",
        "            ]\n",
        "df_holocaust = pd.DataFrame(columns=COLUNAS_1)\n",
        "\n",
        "#functions\n",
        "def give_emoji_free_text(text):\n",
        "\tallchars = [str for str in text]\n",
        "\temoji_list = [c for c in allchars if c in emoji.UNICODE_EMOJI]\n",
        "\tclean_text = ' '.join([str for str in text.split() if not any(i in str for i in emoji_list)])\n",
        "\treturn clean_text\n",
        "\n",
        "for idx, texts in enumerate(dataset['tweet']):\n",
        "  texts = texts.lower() \n",
        "  #texts = texts.lstrip()\n",
        "  texts = texts.replace(r\"(http|@)\\S+\", \"\")\n",
        "  texts = re.sub(r'http\\S+', '', texts)\n",
        "  texts = give_emoji_free_text(texts)\n",
        "  texts = texts.replace(r'♡', \"\")\n",
        "  texts = ' '.join(re.sub(\"(@+)|(#+)\", \" \", texts).split()) #remove just the \"@\" and \"# simbolys\" and keeping the name\n",
        "  texts = texts.replace(r'「黒豚、ユダ豚、イタ豚を、俺は見下さん すべて平等に価値がない！」', \"\")\n",
        "  texts = re.sub('@[^\\s]+','',texts) #remove usernames\n",
        "  #texts = ' '.join(re.sub(\"(@[A-Za-z0-9]+)|(#[A-Za-z0-9]+)\", \" \", texts).split())\n",
        "  #texts = texts.replace(r\"[^a-z\\':_]\", \"\")\n",
        "  #texts = texts.replace(r\"(can't|cannot)\", 'can not')\n",
        "  #texts = texts.replace(r\"n't\", ' not')\n",
        "  #texts = texts.replace(r'#அன்புள்ளசூர்யா', \"\")\n",
        "  #texts = texts.replace(r'3⃣', \"\")\n",
        "  #texts = texts.replace(r'#⃣', \"\")\n",
        "  #texts = texts.replace(r'7⃣', \"\")\n",
        "  #texts = texts.replace(r'6⃣', \"\")\n",
        "  #texts = texts.replace(r'6⃣', \"\")\n",
        "  #texts = texts.replace(r'1⃣', \"\")\n",
        "  #texts = texts.replace(r'0⃣', \"\")\n",
        "  #texts = texts.replace(r'9⃣', \"\")\n",
        "  #texts = texts.replace(r'4⃣', \"\")\n",
        "  #texts = texts.replace(r'&', \"\")\n",
        "  #texts = texts.replace(r'*', \"\")\n",
        "  #texts = texts.replace(r'[', \"\")\n",
        "  #texts = texts.replace(r']', \"\")\n",
        "  #texts = texts.replace(r\"::\", \": :\")\n",
        "  #texts = texts.replace(r\"’\", \"\")\n",
        "  #texts = texts.replace(r\"|\", \"\")\n",
        "  #texts = texts.replace(r\"/\", \"\")\n",
        "  #texts = texts.replace(r\"\", \"\")\n",
        "  #texts = texts.replace(r\"\", \"\")\n",
        "  #texts = texts.replace(r\"'\", \"\")\n",
        "  #texts = texts.replace(r\"*\", \"\")\n",
        "  #texts = texts.replace(r\"!\", \"\")\n",
        "  #texts = texts.replace(r\"?\", \"\")\n",
        "  #texts = texts.replace(r\"«\", \"\")\n",
        "  #texts = texts.replace(r\"»\", \"\")\n",
        "  #texts = texts.replace(r\"(\", \"\")\n",
        "  #texts = texts.replace(r\"‘\", \"\")\n",
        "  #texts = texts.replace(r\"“\", \"\")\n",
        "  #texts = texts.replace(r\"”\", \"\")\n",
        "  #texts = texts.replace(r\"“\", \"\")\n",
        "  #texts = texts.replace(r\";\", \"\") \n",
        "  #texts = texts.replace(r\",\", \"\")\n",
        "  #texts = texts.replace(r'\"', \"\")\n",
        "  #texts = texts.replace(r':', \"\")\n",
        "  #texts = texts.replace(r'&', \"\")\n",
        "  #texts = texts.replace(r\")\", \"\")\n",
        "  #texts = texts.replace(r'¿', \"\")\n",
        "  #texts = texts.replace(r'...', \"\")\n",
        "  #texts = texts.replace(r'=', \"\")\n",
        "  #texts = texts.replace(r'-', \"\")\n",
        "  #texts = texts.replace(r'—', \"\")\n",
        "  #texts = texts.replace(r'+', \"\")\n",
        "  #texts = texts.replace(r'.', \"\")\n",
        "  #print(texts)\n",
        "\n",
        "  #Twitter classification\n",
        "  analysis = None\n",
        "  analysis = tb(texts)\n",
        "  polarity = analysis.sentiment.polarity\n",
        "  sent_score.append(polarity)\n",
        "  \n",
        "  #Spacy Library\n",
        "  doc = nlp(texts)\n",
        "\n",
        "  count_dict = {\n",
        "        'NOUN' : int(0),\n",
        "        'ADJ': int(0),\n",
        "        'ADV': int(0),\n",
        "        'VERB' : int(0),\n",
        "        \n",
        "        #'ADP': int(0),\n",
        "        #'AUX': int(0),\n",
        "        #'CONJ': int(0),\n",
        "        #'DET': int(0),\n",
        "        #'INTJ': int(0),\n",
        "        #'NUM': int(0),\n",
        "        #'PART': int(0),\n",
        "        #'PRON': int(0),\n",
        "        #'PROPN': int(0),\n",
        "        #'PUNCT': int(0),\n",
        "        #'CCONJ': int(0),\n",
        "        #'SCONJ': int(0),\n",
        "        #'SYM' : int(0),\n",
        "        #'SPACE' : int(0),\n",
        "        #'X' : int(0)  \n",
        "    }\n",
        "    \n",
        "  count_dict_1 = {\n",
        "      'HOLOC': int(0),\n",
        "  }\n",
        "\n",
        "  for token in doc:\n",
        "    #Check part-of-speech \n",
        "    if token.pos_ in count_dict.keys():\n",
        "      count_dict[token.pos_] = count_dict[token.pos_] + 1\n",
        " \n",
        "    #Check Holocaust Lexicon \n",
        "    for ia in in holocaust:\n",
        "      if token.lemma_\n",
        "      print(idx, token.lemma_, it_holo)\n",
        "        #count_dict_1[token.lemma_] = count_dict_1[token.lemma_] + 1 \n",
        "\n",
        "  # Insert new row to partofspeech dataframe\n",
        "  df_partofspeech = df_partofspeech.append(count_dict, ignore_index=True)\n",
        "  # Insert new row to holocaust dataframe\n",
        "  df_holocaust = df_holocaust.append(count_dict_1, ignore_index=True)  \n",
        "\n",
        "\n",
        "#Atualiza o vetor de twitter com a versão normalizada  \n",
        "  df_normalizado.append(texts)\n",
        "dataset['tweet'] = df_lematized\n",
        "#print(dataset['tweet'] )\n",
        "\n",
        "#Create the dataframe for sentiment score\n",
        "df_sent = pd.DataFrame(data=sent_score)\n",
        "df_sent.columns = ['SENT']\n",
        "\n",
        "#Create the dataframe for holocaust score\n",
        "#df_holoc = pd.DataFrame(data=df_holocaust)\n",
        "#df_holoc.columns['HOLOC']"
      ],
      "execution_count": 101,
      "outputs": [
        {
          "output_type": "error",
          "ename": "SyntaxError",
          "evalue": "ignored",
          "traceback": [
            "\u001b[0;36m  File \u001b[0;32m\"<ipython-input-101-279fed67650f>\"\u001b[0;36m, line \u001b[0;32m148\u001b[0m\n\u001b[0;31m    for ia in in holocaust:\u001b[0m\n\u001b[0m               ^\u001b[0m\n\u001b[0;31mSyntaxError\u001b[0m\u001b[0;31m:\u001b[0m invalid syntax\n"
          ]
        }
      ]
    },
    {
      "cell_type": "code",
      "metadata": {
        "id": "j8MZo5DQ-5i_",
        "outputId": "c1e7e84e-9e11-4e6f-fa57-b77e5990c435",
        "colab": {
          "base_uri": "https://localhost:8080/",
          "height": 185
        }
      },
      "source": [
        "#Pre-processing using the BERT embeddings\n",
        "dataset['embedding'] = list(model.encode(dataset['tweet'].to_list()))"
      ],
      "execution_count": 67,
      "outputs": [
        {
          "output_type": "error",
          "ename": "AttributeError",
          "evalue": "ignored",
          "traceback": [
            "\u001b[0;31m---------------------------------------------------------------------------\u001b[0m",
            "\u001b[0;31mAttributeError\u001b[0m                            Traceback (most recent call last)",
            "\u001b[0;32m<ipython-input-67-daeb077f942b>\u001b[0m in \u001b[0;36m<module>\u001b[0;34m()\u001b[0m\n\u001b[1;32m      1\u001b[0m \u001b[0;31m#Pre-processing using the BERT embeddings\u001b[0m\u001b[0;34m\u001b[0m\u001b[0;34m\u001b[0m\u001b[0;34m\u001b[0m\u001b[0m\n\u001b[0;32m----> 2\u001b[0;31m \u001b[0mdataset\u001b[0m\u001b[0;34m[\u001b[0m\u001b[0;34m'embedding'\u001b[0m\u001b[0;34m]\u001b[0m \u001b[0;34m=\u001b[0m \u001b[0mlist\u001b[0m\u001b[0;34m(\u001b[0m\u001b[0mmodel\u001b[0m\u001b[0;34m.\u001b[0m\u001b[0mencode\u001b[0m\u001b[0;34m(\u001b[0m\u001b[0mdataset\u001b[0m\u001b[0;34m[\u001b[0m\u001b[0;34m'tweet'\u001b[0m\u001b[0;34m]\u001b[0m\u001b[0;34m.\u001b[0m\u001b[0mto_list\u001b[0m\u001b[0;34m(\u001b[0m\u001b[0;34m)\u001b[0m\u001b[0;34m)\u001b[0m\u001b[0;34m)\u001b[0m\u001b[0;34m\u001b[0m\u001b[0;34m\u001b[0m\u001b[0m\n\u001b[0m",
            "\u001b[0;31mAttributeError\u001b[0m: 'SVC' object has no attribute 'encode'"
          ]
        }
      ]
    },
    {
      "cell_type": "code",
      "metadata": {
        "id": "w-AumeUhh9jN"
      },
      "source": [
        "#Get the features using the Bert Embedding\n",
        "features_bert = np.array(dataset['embedding'].to_list())\n",
        "df_features = pd.DataFrame(data=features_bert, index=None, columns=None)\n",
        "\n",
        "#Insert the Score Sentiment column\n",
        "#df_features['SENT'] = df_sent['SENT']\n",
        "df_partofspeech['SENT'] = df_sent['SENT']\n",
        "\n",
        "#df_features = pd.concat([df_features, df_partofspeech], axis=1)\n",
        "#axis = 0 ou axis = 1 define se vc quer juntar os dataframes por linha (igual o append) ou por coluna\n",
        "\n",
        "#Insert the class column\n",
        "#df_features['class'] = dataset['class']\n",
        "df_partofspeech['class'] = dataset['class']"
      ],
      "execution_count": 76,
      "outputs": []
    },
    {
      "cell_type": "code",
      "metadata": {
        "id": "E-P5HGjDDEz3",
        "outputId": "7732f82b-e5d4-4830-8896-63cb94754c68",
        "colab": {
          "base_uri": "https://localhost:8080/",
          "height": 514
        }
      },
      "source": [
        "#Separating features and class\n",
        "#X = df_features.iloc[:, :-1]\n",
        "#Y = df_features.iloc[:,-1]\n",
        "\n",
        "X = df_partofspeech.iloc[:, :-1]\n",
        "Y = df_partofspeech.iloc[:,-1]\n",
        "print('---------------------------(features)-------------------------------')\n",
        "print(X)\n",
        "print('---------------------------(class)----------------------------------')\n",
        "print(Y)"
      ],
      "execution_count": 77,
      "outputs": [
        {
          "output_type": "stream",
          "text": [
            "---------------------------(features)-------------------------------\n",
            "    NOUN ADJ ADV VERB      SENT\n",
            "0     10   6   0    5  0.011458\n",
            "1      7   0   1    9  0.000000\n",
            "2      4   2   0    3 -0.375000\n",
            "3      3   3   3    5  0.083838\n",
            "4      5   2   1    8 -0.700000\n",
            "..   ...  ..  ..  ...       ...\n",
            "817    0   1   2    2  0.400000\n",
            "818    1   0   0    1  0.000000\n",
            "819    7   2   1    3  0.687500\n",
            "820    7   2   0    2  0.212121\n",
            "821    2   3   1    1 -0.218750\n",
            "\n",
            "[822 rows x 5 columns]\n",
            "---------------------------(class)----------------------------------\n",
            "0      0\n",
            "1      0\n",
            "2      0\n",
            "3      0\n",
            "4      1\n",
            "      ..\n",
            "817    1\n",
            "818    1\n",
            "819    1\n",
            "820    1\n",
            "821    1\n",
            "Name: class, Length: 822, dtype: int64\n"
          ],
          "name": "stdout"
        }
      ]
    },
    {
      "cell_type": "code",
      "metadata": {
        "id": "J5oE7IGGijZB",
        "outputId": "0cb8e871-be95-4ebd-e661-e8348a54f5d3",
        "colab": {
          "base_uri": "https://localhost:8080/",
          "height": 123
        }
      },
      "source": [
        "#Separating test and training data\n",
        "validation_size = 0.25\n",
        "seed = 42\n",
        "X_train, X_validation, Y_train, Y_validation = model_selection.train_test_split(X, Y, test_size=validation_size, random_state=seed)\n",
        "scoring = 'accuracy'\n",
        "\n",
        "\n",
        "models = []\n",
        "models.append(('LR', LogisticRegression()))\n",
        "models.append(('LDA', LinearDiscriminantAnalysis()))\n",
        "models.append(('KNN', KNeighborsClassifier()))\n",
        "models.append(('CART', DecisionTreeClassifier()))\n",
        "models.append(('NB', GaussianNB()))\n",
        "models.append(('SVM', SVC()))\n",
        "\n",
        "#Cross-validation\n",
        "results = []\n",
        "names = []\n",
        "for name, model in models:\n",
        "\tkfold = model_selection.KFold(n_splits=10, random_state=None)\n",
        "\tcv_results = model_selection.cross_val_score(model, X_train, Y_train, cv=kfold, scoring=scoring)\n",
        "\tresults.append(cv_results)\n",
        "\tnames.append(name)\n",
        "\tmsg = \"%s: %f (%f)\" % (name, cv_results.mean(), cv_results.std())\n",
        "\tprint(msg)"
      ],
      "execution_count": 92,
      "outputs": [
        {
          "output_type": "stream",
          "text": [
            "LR: 0.505077 (0.071468)\n",
            "LDA: 0.506690 (0.072241)\n",
            "KNN: 0.532364 (0.049787)\n",
            "CART: 0.491988 (0.043624)\n",
            "NB: 0.501798 (0.054113)\n",
            "SVM: 0.543760 (0.029542)\n"
          ],
          "name": "stdout"
        }
      ]
    },
    {
      "cell_type": "code",
      "metadata": {
        "id": "ahjO0zF1D3NL",
        "outputId": "5f9a212b-5d15-4364-f806-98ccedf3b7ca",
        "colab": {
          "base_uri": "https://localhost:8080/",
          "height": 34
        }
      },
      "source": [
        "#MLP classifier\n",
        "from sklearn.neural_network import MLPClassifier\n",
        "from sklearn.model_selection import cross_val_score\n",
        "\n",
        "def model_tester(inputs, target):\n",
        "  clf = MLPClassifier(hidden_layer_sizes=(8,), random_state=42, max_iter=100000)\n",
        "  scores = cross_val_score(clf, inputs, target, cv=10)\n",
        "  print(\"Score do classificador: %.2f\" % (scores.mean()*100))\n",
        "\n",
        "#Score\n",
        "model_tester(X, Y)"
      ],
      "execution_count": 93,
      "outputs": [
        {
          "output_type": "stream",
          "text": [
            "Score do classificador: 51.22\n"
          ],
          "name": "stdout"
        }
      ]
    }
  ]
}